{
 "cells": [
  {
   "cell_type": "markdown",
   "id": "2e2cc15c",
   "metadata": {},
   "source": [
    "# Imports and system definition"
   ]
  },
  {
   "cell_type": "code",
   "execution_count": null,
   "id": "c43e4b91",
   "metadata": {},
   "outputs": [],
   "source": []
  },
  {
   "cell_type": "markdown",
   "id": "72b7f7c6",
   "metadata": {},
   "source": [
    "# Controllability and Observability\n",
    "\n",
    "- **Controllability**: A system is controllable if it is possible to move the system from any initial state to any desired final state in a finite time. We can check this by calculating the rank of the controllability matrix.\n",
    "- **Observability**: A system is observable if it is possible to determine the internal state of the system by observing its outputs. We can check this by calculating the rank of the observability matrix."
   ]
  },
  {
   "cell_type": "code",
   "execution_count": null,
   "id": "c652f8f3",
   "metadata": {},
   "outputs": [],
   "source": []
  },
  {
   "cell_type": "markdown",
   "id": "37b3644e",
   "metadata": {},
   "source": [
    "# Controller Design"
   ]
  },
  {
   "cell_type": "markdown",
   "id": "11bc352c",
   "metadata": {},
   "source": [
    "## Discretization"
   ]
  },
  {
   "cell_type": "code",
   "execution_count": null,
   "id": "1420e2ac",
   "metadata": {},
   "outputs": [],
   "source": []
  },
  {
   "cell_type": "markdown",
   "id": "5c70a23e",
   "metadata": {},
   "source": [
    "## Tunning"
   ]
  },
  {
   "cell_type": "code",
   "execution_count": null,
   "id": "78430587",
   "metadata": {},
   "outputs": [],
   "source": []
  },
  {
   "cell_type": "markdown",
   "id": "8595477a",
   "metadata": {},
   "source": [
    "# Open Loop Simulation Without Disturbances"
   ]
  },
  {
   "cell_type": "code",
   "execution_count": null,
   "id": "561f6633",
   "metadata": {},
   "outputs": [],
   "source": []
  },
  {
   "cell_type": "markdown",
   "id": "d1aa7a39",
   "metadata": {},
   "source": [
    "# Closed Loop Simulation Without Disturbances"
   ]
  },
  {
   "cell_type": "code",
   "execution_count": null,
   "id": "ef4a6760",
   "metadata": {},
   "outputs": [],
   "source": []
  },
  {
   "cell_type": "markdown",
   "id": "43caa289",
   "metadata": {},
   "source": [
    "# Open Loop Simulation With Disturbances"
   ]
  },
  {
   "cell_type": "code",
   "execution_count": null,
   "id": "288d1871",
   "metadata": {},
   "outputs": [],
   "source": []
  },
  {
   "cell_type": "markdown",
   "id": "d6e63d0c",
   "metadata": {},
   "source": [
    "# Closed Loop Simulation With Disturbances"
   ]
  },
  {
   "cell_type": "code",
   "execution_count": null,
   "id": "471c15b7",
   "metadata": {},
   "outputs": [],
   "source": []
  }
 ],
 "metadata": {
  "kernelspec": {
   "display_name": "pyvenv",
   "language": "python",
   "name": "python3"
  },
  "language_info": {
   "codemirror_mode": {
    "name": "ipython",
    "version": 3
   },
   "file_extension": ".py",
   "mimetype": "text/x-python",
   "name": "python",
   "nbconvert_exporter": "python",
   "pygments_lexer": "ipython3",
   "version": "3.12.3"
  }
 },
 "nbformat": 4,
 "nbformat_minor": 5
}
