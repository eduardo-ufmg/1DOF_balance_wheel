{
 "cells": [
  {
   "cell_type": "markdown",
   "id": "2e2cc15c",
   "metadata": {},
   "source": [
    "# Imports and system definition"
   ]
  },
  {
   "cell_type": "code",
   "execution_count": null,
   "id": "c43e4b91",
   "metadata": {},
   "outputs": [],
   "source": [
    "import numpy as np\n",
    "import scipy.linalg\n",
    "import scipy.signal\n",
    "import matplotlib.pyplot as plt\n",
    "\n",
    "# State-space matrices from the combined model\n",
    "A = np.array([\n",
    "    [0, 1, 0],\n",
    "    [-6.356, 0, 1.86],\n",
    "    [6.35, 0, -33.2]\n",
    "])\n",
    "\n",
    "B = np.array([\n",
    "    [0],\n",
    "    [-2.49],\n",
    "    [44.5]\n",
    "])\n",
    "\n",
    "C = np.array([\n",
    "    [1, 0, 0],\n",
    "    [0, 0, 1]\n",
    "])\n",
    "\n",
    "D = np.array([\n",
    "    [0],\n",
    "    [0]\n",
    "])\n",
    "\n",
    "# Create the continuous-time state-space system\n",
    "system = scipy.signal.StateSpace(A, B, C, D)\n",
    "\n",
    "print(\"State-space model defined successfully!\")\n",
    "print(\"\\nA =\\n\", A)\n",
    "print(\"\\nB =\\n\", B)\n",
    "print(\"\\nC =\\n\", C)\n",
    "print(\"\\nD =\\n\", D)"
   ]
  },
  {
   "cell_type": "markdown",
   "id": "72b7f7c6",
   "metadata": {},
   "source": [
    "# Controllability and Observability\n",
    "\n",
    "- **Controllability**: A system is controllable if it is possible to move the system from any initial state to any desired final state in a finite time. We can check this by calculating the rank of the controllability matrix.\n",
    "- **Observability**: A system is observable if it is possible to determine the internal state of the system by observing its outputs. We can check this by calculating the rank of the observability matrix."
   ]
  },
  {
   "cell_type": "code",
   "execution_count": null,
   "id": "c652f8f3",
   "metadata": {},
   "outputs": [],
   "source": [
    "# Controllability\n",
    "ctrb_matrix = np.hstack([B, A @ B, A @ A @ B])\n",
    "ctrb_rank = np.linalg.matrix_rank(ctrb_matrix)\n",
    "\n",
    "print(f\"Controllability Matrix Rank: {ctrb_rank}\")\n",
    "if ctrb_rank == A.shape[0]:\n",
    "    print(\"The system is controllable. ✅\")\n",
    "else:\n",
    "    print(\"The system is not controllable. ❌\")\n",
    "\n",
    "# Observability\n",
    "obsv_matrix = np.vstack([C, C @ A, C @ A @ A])\n",
    "obsv_rank = np.linalg.matrix_rank(obsv_matrix)\n",
    "\n",
    "print(f\"\\nObservability Matrix Rank: {obsv_rank}\")\n",
    "if obsv_rank == A.shape[0]:\n",
    "    print(\"The system is observable. ✅\")\n",
    "else:\n",
    "    print(\"The system is not observable. ❌\")"
   ]
  },
  {
   "cell_type": "markdown",
   "id": "37b3644e",
   "metadata": {},
   "source": [
    "# Controller Design"
   ]
  },
  {
   "cell_type": "markdown",
   "id": "11bc352c",
   "metadata": {},
   "source": [
    "## Discretization"
   ]
  },
  {
   "cell_type": "code",
   "execution_count": null,
   "id": "1420e2ac",
   "metadata": {},
   "outputs": [],
   "source": [
    "# Discretize the system\n",
    "dt_controller = 0.01  # Controller sample time\n",
    "discrete_system = system.to_discrete(dt=dt_controller)\n",
    "Ad = discrete_system.A\n",
    "Bd = discrete_system.B\n",
    "\n",
    "print(\"Discrete-time system matrices:\")\n",
    "print(\"\\nAd =\\n\", Ad)\n",
    "print(\"\\nBd =\\n\", Bd)"
   ]
  },
  {
   "cell_type": "markdown",
   "id": "5c70a23e",
   "metadata": {},
   "source": [
    "## Tunning"
   ]
  },
  {
   "cell_type": "code",
   "execution_count": null,
   "id": "78430587",
   "metadata": {},
   "outputs": [],
   "source": [
    "# Tune the controller"
   ]
  },
  {
   "cell_type": "markdown",
   "id": "8595477a",
   "metadata": {},
   "source": [
    "# Open Loop Simulation Without Disturbances"
   ]
  },
  {
   "cell_type": "code",
   "execution_count": null,
   "id": "561f6633",
   "metadata": {},
   "outputs": [],
   "source": [
    "# --- Simulation parameters ---\n",
    "T_sim_ol = 0.6\n",
    "dt_sim = 0.0001  # Time step\n",
    "t_ol = np.arange(0, T_sim_ol, dt_sim)\n",
    "x0_ol = np.array([0.5, 0, 0])  # Initial condition\n",
    "\n",
    "# --- Simulation loop ---\n",
    "x_ol = x0_ol\n",
    "x_ol_history = [x0_ol]\n",
    "for _ in t_ol[1:]:\n",
    "    u_ol = np.array([0]) # No control input\n",
    "    x_ol = Ad @ x_ol + Bd @ u_ol # Evolve the system\n",
    "    x_ol_history.append(x_ol)\n",
    "\n",
    "x_ol_history = np.array(x_ol_history)\n",
    "\n",
    "# --- Plot the results ---\n",
    "plt.figure(figsize=(12, 6))\n",
    "plt.plot(t_ol, x_ol_history[:, 0], label='$\\\\theta$ (Body Angle)')\n",
    "plt.plot(t_ol, x_ol_history[:, 1], label='$\\\\dot{\\\\theta}$ (Body Angular Velocity)')\n",
    "plt.plot(t_ol, x_ol_history[:, 2], label='$\\\\dot{\\\\phi}$ (Wheel Angular Velocity)')\n",
    "plt.title('Open-Loop Response (No Control, No Disturbances)')\n",
    "plt.xlabel('Time (s)')\n",
    "plt.ylabel('State')\n",
    "plt.grid(True)\n",
    "plt.legend()\n",
    "plt.show()"
   ]
  },
  {
   "cell_type": "markdown",
   "id": "d1aa7a39",
   "metadata": {},
   "source": [
    "# Closed Loop Simulation Without Disturbances"
   ]
  },
  {
   "cell_type": "code",
   "execution_count": null,
   "id": "ef4a6760",
   "metadata": {},
   "outputs": [],
   "source": [
    "# Simulation parameters\n",
    "T_sim = 0.6\n",
    "dt = 0.0001  # Time step\n",
    "t = np.arange(0, T_sim, dt)\n",
    "x0 = np.array([0.5, 0, 0])  # Initial condition (small tilt)\n",
    "\n",
    "# Simulation loop\n",
    "x = x0\n",
    "x_history = [x0]\n",
    "for _ in t[1:]:\n",
    "    u = -K @ x\n",
    "    x = Ad @ x + Bd @ u.flatten()\n",
    "    x_history.append(x)\n",
    "\n",
    "x_history = np.array(x_history)\n",
    "\n",
    "# Plot the results\n",
    "plt.figure(figsize=(12, 6))\n",
    "plt.plot(t, x_history[:, 0], label='$\\\\theta$ (Body Angle)')\n",
    "plt.plot(t, x_history[:, 1], label='$\\\\dot{\\\\theta}$ (Body Angular Velocity)')\n",
    "plt.plot(t, x_history[:, 2], label='$\\\\dot{\\\\phi}$ (Wheel Angular Velocity)')\n",
    "plt.title('Closed-Loop Control')\n",
    "plt.xlabel('Time (s)')\n",
    "plt.ylabel('State')\n",
    "plt.grid(True)\n",
    "plt.legend()\n",
    "plt.show()"
   ]
  },
  {
   "cell_type": "markdown",
   "id": "43caa289",
   "metadata": {},
   "source": [
    "# Open Loop Simulation With Disturbances"
   ]
  },
  {
   "cell_type": "code",
   "execution_count": null,
   "id": "288d1871",
   "metadata": {},
   "outputs": [],
   "source": [
    "# --- Simulation parameters and disturbance generation ---\n",
    "T_sim_dist_ol = 20\n",
    "dt_dist = 0.0001\n",
    "t_dist_ol = np.arange(0, T_sim_dist_ol, dt_dist)\n",
    "x0_dist_ol = np.array([0.0, 0, 0]) # Start from a stable position\n",
    "\n",
    "# Generate the same disturbance signal for a fair comparison\n",
    "disturbance_magnitude = 0.04\n",
    "disturbance_interval = 2.0 # seconds\n",
    "num_samples_in_interval = int(disturbance_interval / dt_dist)\n",
    "num_disturbance_steps = int(np.ceil(T_sim_dist_ol / disturbance_interval))\n",
    "random_steps = disturbance_magnitude * np.random.randn(num_disturbance_steps)\n",
    "slow_disturbance_ol = np.repeat(random_steps, num_samples_in_interval)\n",
    "slow_disturbance_ol = slow_disturbance_ol[:len(t_dist_ol)]\n",
    "\n",
    "\n",
    "# --- Simulation loop ---\n",
    "x_dist_ol = x0_dist_ol\n",
    "x_dist_ol_history = [x0_dist_ol]\n",
    "\n",
    "for i, time in enumerate(t_dist_ol[1:]):\n",
    "    # The only input is the disturbance itself\n",
    "    u_dist_ol = np.array([slow_disturbance_ol[i]])\n",
    "    \n",
    "    # Update the state\n",
    "    x_dist_ol = Ad @ x_dist_ol + Bd @ u_dist_ol\n",
    "    x_dist_ol_history.append(x_dist_ol)\n",
    "\n",
    "x_dist_ol_history = np.array(x_dist_ol_history)\n",
    "\n",
    "\n",
    "# --- Plot the results ---\n",
    "plt.figure(figsize=(12, 8))\n",
    "\n",
    "# Plot 1: Body Angle State\n",
    "ax1 = plt.subplot(2, 1, 1)\n",
    "ax1.plot(t_dist_ol, x_dist_ol_history[:, 0], label='$\\\\theta$ (Body Angle)')\n",
    "ax1.set_title('Open-Loop System Response to Disturbances')\n",
    "ax1.set_ylabel('Angle (rad)')\n",
    "ax1.grid(True)\n",
    "ax1.legend()\n",
    "\n",
    "# Plot 2: Disturbance Signal\n",
    "ax2 = plt.subplot(2, 1, 2, sharex=ax1)\n",
    "ax2.plot(t_dist_ol, slow_disturbance_ol, 'r-', label='Disturbance Input')\n",
    "ax2.set_xlabel('Time (s)')\n",
    "ax2.set_ylabel('Disturbance')\n",
    "ax2.grid(True)\n",
    "ax2.legend()\n",
    "\n",
    "plt.tight_layout()\n",
    "plt.show()"
   ]
  },
  {
   "cell_type": "markdown",
   "id": "d6e63d0c",
   "metadata": {},
   "source": [
    "# Closed Loop Simulation With Disturbances"
   ]
  },
  {
   "cell_type": "code",
   "execution_count": null,
   "id": "471c15b7",
   "metadata": {},
   "outputs": [],
   "source": [
    "# --- Simulation parameters and disturbance generation ---\n",
    "T_sim = 20\n",
    "t = np.arange(0, T_sim, dt)\n",
    "x0 = np.array([0.0, 0, 0]) # Start from a stable position\n",
    "\n",
    "disturbance_magnitude = 0.04\n",
    "disturbance_interval = 2.0 # seconds\n",
    "num_samples_in_interval = int(disturbance_interval / dt)\n",
    "num_disturbance_steps = int(np.ceil(T_sim / disturbance_interval))\n",
    "random_steps = disturbance_magnitude * np.random.randn(num_disturbance_steps)\n",
    "slow_disturbance = np.repeat(random_steps, num_samples_in_interval)\n",
    "slow_disturbance = slow_disturbance[:len(t)]\n",
    "\n",
    "\n",
    "# --- Simulation loop with control effort recording ---\n",
    "x = x0\n",
    "x_history = [x0]\n",
    "u_history = []\n",
    "\n",
    "for i, time in enumerate(t):\n",
    "    # Calculate control signal\n",
    "    u = -K @ x + slow_disturbance[i]\n",
    "\n",
    "    # Store the control signal\n",
    "    u_history.append(u)\n",
    "\n",
    "    # Update the state\n",
    "    if i < len(t) - 1: # Ensure we don't go past the end of the time array\n",
    "        x = Ad @ x + Bd @ u.flatten()\n",
    "        x_history.append(x)\n",
    "\n",
    "\n",
    "x_history = np.array(x_history)\n",
    "u_history = np.array(u_history).flatten() # Flatten for plotting\n",
    "\n",
    "\n",
    "# --- Plot the results ---\n",
    "plt.figure(figsize=(12, 10))\n",
    "\n",
    "# Plot 1: Body Angle State\n",
    "ax1 = plt.subplot(3, 1, 1)\n",
    "ax1.plot(t, x_history[:, 0], label='$\\\\theta$ (Body Angle)')\n",
    "ax1.set_title('System Response and Controller Effort with Disturbances')\n",
    "ax1.set_ylabel('Angle (rad)')\n",
    "ax1.grid(True)\n",
    "ax1.legend()\n",
    "\n",
    "# Plot 2: Disturbance Signal\n",
    "ax2 = plt.subplot(3, 1, 2, sharex=ax1)\n",
    "ax2.plot(t, slow_disturbance, 'r-', label='Disturbance')\n",
    "ax2.set_ylabel('Disturbance')\n",
    "ax2.grid(True)\n",
    "ax2.legend()\n",
    "\n",
    "# Plot 3: Controller Effort\n",
    "ax3 = plt.subplot(3, 1, 3, sharex=ax1)\n",
    "ax3.plot(t, u_history, 'g-', label='Control Signal (u)')\n",
    "ax3.set_xlabel('Time (s)')\n",
    "ax3.set_ylabel('Controller Effort')\n",
    "ax3.grid(True)\n",
    "ax3.legend()\n",
    "\n",
    "plt.tight_layout()\n",
    "plt.show()"
   ]
  }
 ],
 "metadata": {
  "kernelspec": {
   "display_name": "pyvenv",
   "language": "python",
   "name": "python3"
  },
  "language_info": {
   "codemirror_mode": {
    "name": "ipython",
    "version": 3
   },
   "file_extension": ".py",
   "mimetype": "text/x-python",
   "name": "python",
   "nbconvert_exporter": "python",
   "pygments_lexer": "ipython3",
   "version": "3.12.3"
  }
 },
 "nbformat": 4,
 "nbformat_minor": 5
}
